{
 "cells": [
  {
   "cell_type": "markdown",
   "id": "c1f3f36f-712e-4d63-902c-12efb556956c",
   "metadata": {},
   "source": [
    "# Double checking that difference between merged versions and RWC versions is the same"
   ]
  },
  {
   "cell_type": "markdown",
   "id": "a9d4aaa8-990a-44ef-baaf-75a699ffc709",
   "metadata": {},
   "source": [
    "### check each file"
   ]
  },
  {
   "cell_type": "code",
   "execution_count": 5,
   "id": "eca6902c-b6a7-45df-8429-36cc50c4f469",
   "metadata": {},
   "outputs": [],
   "source": [
    "dataset1 = Dataset(file_path1, 'r')"
   ]
  },
  {
   "cell_type": "code",
   "execution_count": 14,
   "id": "45385ccd-f8b6-45b7-a582-e2a253de8750",
   "metadata": {},
   "outputs": [
    {
     "data": {
      "text/plain": [
       "23.06173"
      ]
     },
     "execution_count": 14,
     "metadata": {},
     "output_type": "execute_result"
    }
   ],
   "source": [
    "dataset1.variables[\"PSI\"][:][:, :, 0:500, 0:500].sum()"
   ]
  },
  {
   "cell_type": "code",
   "execution_count": 5,
   "id": "6d05c7a1-e526-49ef-a0ce-dece873e22c6",
   "metadata": {},
   "outputs": [],
   "source": [
    "import netCDF4 as ncf"
   ]
  },
  {
   "cell_type": "code",
   "execution_count": 6,
   "id": "6f087b3f-36e3-453e-b814-c8a3f7d7d45d",
   "metadata": {
    "tags": []
   },
   "outputs": [],
   "source": [
    "# #new_RWC_path = \"/projects/b1045/SMOKE.EMF/2016_beta/2016ff_16j/premerged/rwc/2020_rwc_averaged_with_removed_variables_201601.nc\"\n",
    "import xarray as xr\n",
    "\n",
    "# # Open the NetCDF file\n",
    "# _RWC_ds = xr.open_dataset(new_RWC_path)\n",
    "\n",
    "# # Access the variable and convert it to a NumPy array\n",
    "# variable_name = 'POC'\n",
    "# _RWC_ds[variable_name].values[:].mean()"
   ]
  },
  {
   "cell_type": "markdown",
   "id": "9e050b72-d7ce-4257-ae65-db6f1bcda04b",
   "metadata": {},
   "source": [
    "### (new_RWC - old_RWC) - (new_merge - old_merge) == 0 should be true"
   ]
  },
  {
   "cell_type": "code",
   "execution_count": 7,
   "id": "ce981e9b-55e7-4912-a56f-60404656e3ce",
   "metadata": {},
   "outputs": [],
   "source": [
    "# nesxt also try with 2020_rwc_averaged_with_removed_variable_201601.nc in premerged rwc directory"
   ]
  },
  {
   "cell_type": "code",
   "execution_count": 8,
   "id": "7c79a944-2def-465b-8e11-05a41451e6d3",
   "metadata": {},
   "outputs": [],
   "source": [
    "oth_new_RWC_ds = xr.open_dataset(\"/projects/b1045/SMOKE.EMF/2016_beta/2016ff_16j/premerged/rwc/2020_rwc_averaged_with_removed_variable_201601.nc\")\n",
    "\n"
   ]
  },
  {
   "cell_type": "code",
   "execution_count": 9,
   "id": "20761d38-80ff-4330-a13b-4fced488a083",
   "metadata": {},
   "outputs": [],
   "source": [
    "new_RWC_ds = xr.open_dataset(\"/projects/b1045/SMOKE.EMF/2016_beta/2016ff_16j/premerged.conus4k.no_rwc/rwc_2020_new_surrogates/201601_2020_new_surogates_avg.nc\")\n",
    "\n",
    "new_merged_path = \"/projects/b1045/SMOKE.EMF/2016_beta/2016ff_16j/smoke_out/2016ff_16j/CONUS4K_d02/cmaq_cb6/201601_SMOKE2020RWC/merged_201601_2020RWC_avg.ncf\"\n",
    "new_merged_ds = xr.open_dataset(new_merged_path, drop_variables=['COL', 'ROW'])"
   ]
  },
  {
   "cell_type": "code",
   "execution_count": 10,
   "id": "363f018c-bce3-4308-bc0c-a3c708bdf868",
   "metadata": {},
   "outputs": [],
   "source": [
    "old_RWC_path = \"baseline_2016_01_rwc_averaged.nc\"\n",
    "old_RWC_ds = xr.open_dataset(old_RWC_path)\n",
    "\n",
    "old_merged_path = \"/projects/b1045/SMOKE.EMF/2016_beta/2016ff_16j/smoke_out/2016ff_16j/CONUS4K_d02/cmaq_cb6/201601_noRWC/201601_original_CONUS4k_averaged.nc\"\n",
    "old_merged_ds = xr.open_dataset(old_merged_path, drop_variables=['COL', 'ROW'])"
   ]
  },
  {
   "cell_type": "code",
   "execution_count": 12,
   "id": "021fd8cc-534a-491d-803c-aedcf46bbe1e",
   "metadata": {
    "tags": []
   },
   "outputs": [
    {
     "name": "stdout",
     "output_type": "stream",
     "text": [
      "FORM 0.0\n",
      "FORM_PRIMARY -0.0\n",
      "BENZ 0.0\n",
      "ALD2 -0.0\n",
      "ALD2_PRIMARY 0.0\n",
      "NAPH -0.0\n",
      "BUTADIENE13 0.0\n",
      "ACROLEIN -0.0\n",
      "CO 0.01\n",
      "NH3 0.02\n",
      "NH3_FERT nan\n",
      "ACET 0.01\n",
      "ALDX -0.0\n"
     ]
    },
    {
     "name": "stderr",
     "output_type": "stream",
     "text": [
      "/tmp/ipykernel_208319/3249190736.py:14: RuntimeWarning: invalid value encountered in double_scalars\n",
      "  print(variable_name,round(100* (rwc_diff - merged_diff)/rwc_diff, 2))\n"
     ]
    },
    {
     "name": "stdout",
     "output_type": "stream",
     "text": [
      "CH4 -0.0\n",
      "ETH -0.0\n",
      "ETHA -0.0\n",
      "ETHY 0.0\n",
      "ETOH 0.0\n",
      "IOLE 0.0\n",
      "ISOP 0.0\n",
      "KET -0.0\n",
      "MEOH nan\n",
      "NVOL 0.0\n",
      "OLE -0.01\n",
      "PAR -0.0\n",
      "PRPA -0.0\n",
      "SOAALK 0.02\n",
      "TERP nan\n",
      "TOL 0.0\n",
      "UNR 0.0\n",
      "XYLMN -0.0\n",
      "HONO nan\n",
      "NO -0.03\n",
      "NO2 0.04\n",
      "PAL -0.01\n",
      "PCA -0.13\n",
      "PCL 0.0\n",
      "PEC 0.0\n",
      "PFE 0.07\n",
      "PH2O nan\n",
      "PK -0.0\n",
      "PMG -0.01\n",
      "PMN nan\n",
      "PMOTHR -0.0\n",
      "PNA 0.0\n",
      "PNCOM -0.0\n",
      "PNH4 0.0\n",
      "PNO3 -0.0\n",
      "POC -0.0\n",
      "PSI -0.16\n",
      "PSO4 -0.0\n",
      "PTI nan\n",
      "PMC 0.02\n",
      "SO2 0.0\n",
      "SULF nan\n",
      "VOC_INV 0.0\n"
     ]
    }
   ],
   "source": [
    "pm_sum_new = 0\n",
    "pm_sum_old = 0\n",
    "        \n",
    "for variable_name in list(oth_new_RWC_ds.variables)[1:]:\n",
    "    try:\n",
    "        rwc_new = oth_new_RWC_ds[variable_name].values[:].sum()\n",
    "        rwc_old = new_RWC_ds[variable_name].values[:].sum()\n",
    "        if \"P\" ==  variable_name[0]:\n",
    "            pm_sum_new += rwc_new\n",
    "            pm_sum_old += rwc_old\n",
    "            \n",
    "        rwc_diff = new_RWC_ds[variable_name].values[:].sum() - old_RWC_ds[variable_name].values[:].sum()\n",
    "        merged_diff = new_merged_ds[variable_name].values[:].sum() - old_merged_ds[variable_name].values[:].sum()\n",
    "        print(variable_name,round(100* (rwc_diff - merged_diff)/rwc_diff, 2))\n",
    "        #print(variable_name, (rwc_new - rwc_old)/rwc_new * 100)\n",
    "    except Exception as e:\n",
    "        print(variable_name)\n",
    "    \n",
    "    "
   ]
  },
  {
   "cell_type": "code",
   "execution_count": 16,
   "id": "602c2152-6e58-4a7a-814a-4f571e8160d7",
   "metadata": {},
   "outputs": [],
   "source": [
    "merged_new_rwc_201512 = xr.open_dataset(\"/projects/b1045/SMOKE.EMF/2016_beta/2016ff_16j/smoke_out/2016ff_16j/CONUS4K_d02/cmaq_cb6/201601_SMOKE2020RWC/merged_201512_2020RWC_avg.ncf\", drop_variables=['COL', 'ROW'])\n",
    "\n",
    "no_rwc_201512 = xr.open_dataset(\"/projects/b1045/SMOKE.EMF/2016_beta/2016ff_16j/smoke_out/2016ff_16j/CONUS4K_d02/cmaq_cb6/201601_noRWC/201512_merged_averaged_no_rwc.nc\", drop_variables=['COL', 'ROW'])\n",
    "\n",
    "rwc_201512 = xr.open_dataset(\"/projects/b1045/SMOKE.EMF/2016_beta/2016ff_16j/premerged.conus4k.no_rwc/rwc_2020_new_surrogates/201512_2020_new_surogates_avg.nc\", drop_variables=['COL', 'ROW'])\n"
   ]
  },
  {
   "cell_type": "code",
   "execution_count": 17,
   "id": "f12e40c7-3072-48aa-ad62-c5d941a480b1",
   "metadata": {},
   "outputs": [
    {
     "name": "stdout",
     "output_type": "stream",
     "text": [
      "FORM 0.0\n",
      "FORM_PRIMARY 0.0\n",
      "BENZ 0.0\n",
      "ALD2 0.0\n",
      "ALD2_PRIMARY 0.0\n",
      "NAPH 0.0\n",
      "BUTADIENE13 0.0\n",
      "ACROLEIN -0.0\n",
      "CO 0.0\n",
      "NH3 -0.0\n",
      "NH3_FERT nan\n",
      "ACET 0.0\n",
      "ALDX -0.0\n"
     ]
    },
    {
     "name": "stderr",
     "output_type": "stream",
     "text": [
      "/tmp/ipykernel_208319/4159945921.py:8: RuntimeWarning: invalid value encountered in double_scalars\n",
      "  print(variable_name,round(100* (rwc_diff - merged_diff)/rwc_diff, 2))\n"
     ]
    },
    {
     "name": "stdout",
     "output_type": "stream",
     "text": [
      "CH4 -0.01\n",
      "ETH 0.0\n",
      "ETHA -0.0\n",
      "ETHY 0.0\n",
      "ETOH nan\n",
      "IOLE -0.0\n",
      "ISOP 0.0\n",
      "KET -0.0\n",
      "MEOH nan\n",
      "NVOL -0.0\n",
      "OLE 0.0\n",
      "PAR 0.0\n",
      "PRPA 0.0\n",
      "SOAALK 0.1\n",
      "TERP nan\n",
      "TOL -0.0\n",
      "UNR -0.01\n",
      "XYLMN 0.01\n",
      "HONO nan\n",
      "NO 0.0\n",
      "NO2 0.0\n",
      "PAL -0.0\n",
      "PCA -0.0\n",
      "PCL 0.0\n",
      "PEC 0.0\n",
      "PFE -0.03\n",
      "PH2O nan\n",
      "PK -0.0\n",
      "PMG -0.0\n",
      "PMN nan\n",
      "PMOTHR 0.0\n",
      "PNA 0.0\n",
      "PNCOM 0.0\n",
      "PNH4 -0.0\n",
      "PNO3 -0.0\n",
      "POC 0.0\n",
      "PSI -0.0\n",
      "PSO4 0.0\n",
      "PTI nan\n",
      "PMC 0.02\n",
      "SO2 0.0\n",
      "SULF nan\n",
      "VOC_INV -0.0\n"
     ]
    }
   ],
   "source": [
    "pm_sum_new = 0\n",
    "pm_sum_old = 0\n",
    "        \n",
    "for variable_name in list(oth_new_RWC_ds.variables)[1:]:\n",
    "    try:\n",
    "        rwc_diff = rwc_201512[variable_name].values[:].sum()\n",
    "        merged_diff = merged_new_rwc_201512[variable_name].values[:].sum() - no_rwc_201512[variable_name].values[:].sum()\n",
    "        print(variable_name,round(100* (rwc_diff - merged_diff)/rwc_diff, 2))\n",
    "        #print(variable_name, (rwc_new - rwc_old)/rwc_new * 100)\n",
    "    except Exception as e:\n",
    "        print(variable_name)\n",
    "    \n",
    "    "
   ]
  },
  {
   "cell_type": "code",
   "execution_count": null,
   "id": "942cba9f-97be-4534-96dc-86ffadf533a4",
   "metadata": {},
   "outputs": [],
   "source": []
  },
  {
   "cell_type": "code",
   "execution_count": null,
   "id": "5a1e3d12-9f89-4f12-9ebf-1004e94152e3",
   "metadata": {},
   "outputs": [],
   "source": [
    "(pm_sum_new - pm_sum_old)/pm_sum_new"
   ]
  },
  {
   "cell_type": "code",
   "execution_count": 38,
   "id": "9e80ece5-fd17-4051-9936-db91d7a42db6",
   "metadata": {},
   "outputs": [
    {
     "data": {
      "text/plain": [
       "-0.0031433692"
      ]
     },
     "execution_count": 38,
     "metadata": {},
     "output_type": "execute_result"
    }
   ],
   "source": [
    "new_RWC_ds[variable_name].values[:].mean() - old_RWC_ds[variable_name].values[:].mean()"
   ]
  },
  {
   "cell_type": "code",
   "execution_count": 39,
   "id": "d0424133-864c-4076-b5ea-4e8fb0d7356d",
   "metadata": {},
   "outputs": [
    {
     "data": {
      "text/plain": [
       "0.033843335"
      ]
     },
     "execution_count": 39,
     "metadata": {},
     "output_type": "execute_result"
    }
   ],
   "source": []
  },
  {
   "cell_type": "code",
   "execution_count": 40,
   "id": "2b4258ef-fa4a-4dfa-a6e7-203d9ed5a6aa",
   "metadata": {},
   "outputs": [
    {
     "data": {
      "text/plain": [
       "0.030699972"
      ]
     },
     "execution_count": 40,
     "metadata": {},
     "output_type": "execute_result"
    }
   ],
   "source": [
    "old_merged_path = \"/projects/b1045/SMOKE.EMF/2016_beta/2016ff_16j/smoke_out/2016ff_16j/CONUS4K_d02/cmaq_cb6/201601_SMOKE2020RWC/201601_SMOKE2020RWC_averaged.nc\"\n",
    "old_merged_ds = xr.open_dataset(old_merged_path, drop_variables=['COL', 'ROW'])\n",
    "old_merged_ds[variable_name].values[:].mean()"
   ]
  },
  {
   "cell_type": "code",
   "execution_count": 41,
   "id": "79804bc9-6006-46d5-b6b0-3b944d15ee08",
   "metadata": {},
   "outputs": [
    {
     "data": {
      "text/plain": [
       "-0.0031433627"
      ]
     },
     "execution_count": 41,
     "metadata": {},
     "output_type": "execute_result"
    }
   ],
   "source": [
    "old_merged_ds[variable_name].values[:].mean() - other_new_RWC_ds[variable_name].values[:].mean()"
   ]
  },
  {
   "cell_type": "code",
   "execution_count": 42,
   "id": "1b6b443a-2ef4-41ae-8051-33063a105a1c",
   "metadata": {},
   "outputs": [
    {
     "name": "stdout",
     "output_type": "stream",
     "text": [
      "FORM 2.910383e-11\n",
      "FORM_PRIMARY 0.0\n",
      "BENZ -2.7284841e-11\n",
      "ALD2 1.0913936e-11\n",
      "ALD2_PRIMARY 2.5465852e-11\n",
      "NAPH -5.684342e-13\n",
      "BUTADIENE13 2.728484e-12\n",
      "ACROLEIN -4.5474735e-13\n",
      "CO 1.071021e-08\n",
      "NH3 9.094947e-10\n",
      "NH3_FERT 0.0\n",
      "ACET -5.4569682e-11\n",
      "ALDX 4.3655746e-11\n",
      "CH4 -1.0244548e-08\n",
      "ETH 7.2759576e-11\n",
      "ETHA 4.129106e-10\n",
      "ETHY 0.0\n",
      "ETOH -3.8198777e-11\n",
      "IOLE -1.72804e-11\n",
      "ISOP -1.1368684e-12\n",
      "KET 0.0\n",
      "MEOH 0.0\n",
      "NVOL 3.4924597e-10\n",
      "OLE -4.3655746e-11\n",
      "PAR -2.3283064e-09\n",
      "PRPA -1.9372237e-10\n",
      "SOAALK 8.014922e-11\n",
      "TERP 0.0\n",
      "TOL -1.8189894e-11\n",
      "UNR -2.6921043e-10\n",
      "XYLMN 4.9112714e-11\n",
      "HONO 0.0\n",
      "NO -1.2223609e-09\n",
      "NO2 -1.9554136e-11\n",
      "PAL 1.7303137e-10\n",
      "PCA -2.7739588e-10\n",
      "PCL -1.6734703e-10\n",
      "PEC -4.656613e-10\n",
      "PFE 2.0486368e-10\n",
      "PH2O 0.0\n",
      "PK 5.2386895e-10\n",
      "PMG 2.046363e-12\n",
      "PMN 0.0\n",
      "PMOTHR -3.8999133e-09\n",
      "PNA -4.0017767e-11\n",
      "PNCOM 0.0\n",
      "PNH4 3.637979e-12\n",
      "PNO3 1.4551915e-11\n",
      "POC -6.519258e-09\n",
      "PSI -1.708031e-09\n",
      "PSO4 -3.783498e-10\n",
      "PTI 0.0\n",
      "PMC 6.071059e-08\n",
      "SO2 -9.549694e-12\n",
      "SULF 0.0\n",
      "VOC_INV 0.022720467\n"
     ]
    }
   ],
   "source": [
    "for variable_name in list(new_RWC_ds.variables)[1:]:\n",
    "    print(variable_name, (new_RWC_ds[variable_name].values[:].mean() - old_RWC_ds[variable_name].values[:].mean()) - \\\n",
    "    (old_merged_ds[variable_name].values[:].mean() - other_new_RWC_ds[variable_name].values[:].mean()))"
   ]
  }
 ],
 "metadata": {
  "kernelspec": {
   "display_name": "basic",
   "language": "python",
   "name": "basic"
  },
  "language_info": {
   "codemirror_mode": {
    "name": "ipython",
    "version": 3
   },
   "file_extension": ".py",
   "mimetype": "text/x-python",
   "name": "python",
   "nbconvert_exporter": "python",
   "pygments_lexer": "ipython3",
   "version": "3.9.18"
  }
 },
 "nbformat": 4,
 "nbformat_minor": 5
}
