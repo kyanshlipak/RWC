{
 "cells": [
  {
   "cell_type": "code",
   "execution_count": 1,
   "id": "364581d4-2a79-461a-8c1a-56d3cd379477",
   "metadata": {},
   "outputs": [],
   "source": [
    "import pandas as pd\n",
    "import numpy as np\n",
    "import csv"
   ]
  },
  {
   "cell_type": "code",
   "execution_count": 2,
   "id": "bc3c9998-f12e-4b90-9c14-00bd401b489f",
   "metadata": {},
   "outputs": [
    {
     "name": "stderr",
     "output_type": "stream",
     "text": [
      "/home/ksz4578/.conda/envs/basic/lib/python3.9/site-packages/IPython/core/interactiveshell.py:3398: DtypeWarning: Columns (3,13) have mixed types.Specify dtype option on import or set low_memory=False.\n",
      "  exec(code_obj, self.user_global_ns, self.user_ns)\n",
      "/tmp/ipykernel_162109/3815376252.py:3: SettingWithCopyWarning: \n",
      "A value is trying to be set on a copy of a slice from a DataFrame.\n",
      "Try using .loc[row_indexer,col_indexer] = value instead\n",
      "\n",
      "See the caveats in the documentation: https://pandas.pydata.org/pandas-docs/stable/user_guide/indexing.html#returning-a-view-versus-a-copy\n",
      "  rwc['pollutant code'] = rwc['pollutant code'].astype(str)\n"
     ]
    }
   ],
   "source": [
    "NEI = pd.read_csv(r\"NEI2020_data.csv\")\n",
    "rwc = NEI.loc[NEI['scc'].astype(str).str.startswith(('2104008', '2104009'))]\n",
    "rwc['pollutant code'] = rwc['pollutant code'].astype(str)"
   ]
  },
  {
   "cell_type": "code",
   "execution_count": 3,
   "id": "e735f769-63ce-4752-9235-4c877e74f388",
   "metadata": {},
   "outputs": [],
   "source": [
    "allowed_sccs = ['72918219', 'NOX', 'VOC', 'PM25-PRI', '106990', '107028', '108952',\n",
    "       '1319773', '1746016', '19408743', '3268879', '35822469',\n",
    "       '39001020', '39227286', '40321764', 'NH3', 'CO', 'PM-CON',\n",
    "       'PM10-PRI', 'PM10-FIL', 'SO2', 'PM25-FIL', '218019', '41637905',\n",
    "       '50000', '50328', '56553', '57117314', '57117416', '57117449',\n",
    "       '57653857', '60851345', '51207319', '85018', '91203', '95476',\n",
    "       '108883', '120127', '129000', '191242', '192972', '193395',\n",
    "       '198550', '203338', '205992', '206440', '207089', '208968',\n",
    "       '53703', '67562394', '55673897', '628', '70648269', '71432',\n",
    "       '7439976', '75070', '7439965', '7440020', '7440439', '83329',\n",
    "       '86737', '203123', 'CO2', 'N2O', '57976', '92524', '7439921',\n",
    "       '7440360', '7440382', '7440484', '7782492', '7782505', '123386',\n",
    "       '130498292', '16065831', '18540299']\n",
    "\n",
    "## check which aren't in the original RWC File\n",
    "for scc in rwc['pollutant code'].unique():\n",
    "    if scc not in allowed_sccs:\n",
    "        rwc = rwc.loc[~(rwc['pollutant code'] == scc)]\n",
    "        \n",
    "## check which aren't in the original RWC File\n",
    "for scc in rwc['pollutant code'].unique():\n",
    "    if scc not in allowed_sccs:\n",
    "        print(scc)"
   ]
  },
  {
   "cell_type": "code",
   "execution_count": 4,
   "id": "615d493b-ac6e-4a49-b76f-c253d1d26f7c",
   "metadata": {},
   "outputs": [
    {
     "name": "stdout",
     "output_type": "stream",
     "text": [
      "SO4 0.0\n",
      "NO3 0.0\n",
      "PMFINE 0.0\n",
      "pm25 pri 485077.8252135248\n"
     ]
    }
   ],
   "source": [
    "# confirms that all PM25-PRI is accounted for so can remove the other categories\n",
    "print(\"SO4\", rwc.loc[rwc['pollutant code'] == \"SO4\"][\"total emissions\"].sum())\n",
    "print(\"NO3\", rwc.loc[rwc['pollutant code'] == \"NO3\"][\"total emissions\"].sum())\n",
    "print(\"PMFINE\", rwc.loc[rwc['pollutant code'] == \"PMFINE\"][\"total emissions\"].sum())\n",
    "print(\"pm25 pri\", rwc.loc[rwc['pollutant code'] == \"PM25-PRI\"][\"total emissions\"].sum())"
   ]
  },
  {
   "cell_type": "code",
   "execution_count": 5,
   "id": "a81e9de5-a0c0-4236-b2b9-8819e1a423d6",
   "metadata": {},
   "outputs": [],
   "source": [
    "rwc = rwc.loc[~(rwc['pollutant code'].isin([\"NO3\", \"PMFINE\", \"SO4\"]))]"
   ]
  },
  {
   "cell_type": "code",
   "execution_count": 6,
   "id": "27ffeb6c-df0e-4903-88d8-4aba3bc7d9e8",
   "metadata": {},
   "outputs": [],
   "source": [
    "rwc['country_cd'] = 'US'\n",
    "rwc = rwc.rename(columns={'fips code': 'region_cd', \n",
    "                          'data set':'data_set_id', \n",
    "                          'pollutant code':'poll',\n",
    "                          'total emissions':'ann_value'})\n",
    "rwc['tribal_code'] = np.nan\n",
    "rwc['census_tract_cd'] = np.nan\n",
    "rwc['shape_id'] = np.nan\n",
    "rwc['emis_type'] = np.nan\n",
    "rwc['ann_pct_red'] = np.nan\n",
    "rwc['control_ids'] = np.nan\n",
    "rwc['control_measures'] = 'PROJECTION'\n",
    "rwc['current_cost'] = np.nan\n",
    "rwc['cumulative_cost'] = np.nan\n",
    "rwc['projection_factor'] = 1\n",
    "rwc['reg_codes'] = np.nan\n",
    "rwc['calc_method'] = np.nan\n",
    "rwc['calc_year'] = 2020\n",
    "rwc['date_updated'] = 20240404\n",
    "rwc['data_set_id'] = \"2020EPA_NONPOINT\"\n",
    "for key in ['jan_value', 'feb_value', 'mar_value',\n",
    "       'apr_value', 'may_value', 'jun_value', 'jul_value', 'aug_value',\n",
    "       'sep_value', 'oct_value', 'nov_value', 'dec_value', 'jan_pctred',\n",
    "       'feb_pctred', 'mar_pctred', 'apr_pctred', 'may_pctred', 'jun_pctred',\n",
    "       'jul_pctred', 'aug_pctred', 'sep_pctred', 'oct_pctred', 'nov_pctred',\n",
    "       'dec_pctred', 'comment']:\n",
    "    rwc[key] = np.nan\n",
    "\n"
   ]
  },
  {
   "cell_type": "code",
   "execution_count": 7,
   "id": "284063d7-b08a-4ebd-8a82-e61d8ff1cbfb",
   "metadata": {},
   "outputs": [],
   "source": [
    "## scale emissions (units)\n",
    "rwc.loc[rwc[\"emissions uom\"] == \"LB\", \"ann_value\"] /= 2000"
   ]
  },
  {
   "cell_type": "code",
   "execution_count": 8,
   "id": "3d447c87-000b-436c-a390-ed3ea0fae0d5",
   "metadata": {},
   "outputs": [],
   "source": [
    "rwc = rwc[['country_cd', 'region_cd', 'tribal_code', 'census_tract_cd', 'shape_id',\n",
    "       'scc', 'emis_type', 'poll', 'ann_value', 'ann_pct_red', 'control_ids',\n",
    "       'control_measures', 'current_cost', 'cumulative_cost',\n",
    "       'projection_factor', 'reg_codes', 'calc_method', 'calc_year',\n",
    "       'date_updated', 'data_set_id', 'jan_value', 'feb_value', 'mar_value',\n",
    "       'apr_value', 'may_value', 'jun_value', 'jul_value', 'aug_value',\n",
    "       'sep_value', 'oct_value', 'nov_value', 'dec_value', 'jan_pctred',\n",
    "       'feb_pctred', 'mar_pctred', 'apr_pctred', 'may_pctred', 'jun_pctred',\n",
    "       'jul_pctred', 'aug_pctred', 'sep_pctred', 'oct_pctred', 'nov_pctred',\n",
    "       'dec_pctred', 'comment']]"
   ]
  },
  {
   "cell_type": "code",
   "execution_count": 9,
   "id": "ea8c32ee-bf68-4056-abb3-6cfd53df28b0",
   "metadata": {
    "tags": []
   },
   "outputs": [],
   "source": [
    "rwc['region_cd'] = rwc['region_cd'].astype(str)\n",
    "rwc['scc'] =  rwc['scc'].astype(str)"
   ]
  },
  {
   "cell_type": "code",
   "execution_count": 10,
   "id": "53e31c4b-71c9-4089-902d-32147eefd126",
   "metadata": {},
   "outputs": [
    {
     "name": "stdout",
     "output_type": "stream",
     "text": [
      "SO2 43816\n",
      "108883 43816\n",
      "108952 43816\n",
      "208968 47043\n",
      "56553 22288\n",
      "129000 47043\n",
      "VOC 47043\n",
      "106990 43816\n",
      "91203 47043\n",
      "85018 47043\n",
      "PM25-FIL 47043\n",
      "75070 43816\n",
      "86737 47043\n",
      "191242 22288\n",
      "PM10-PRI 47043\n",
      "50328 47043\n",
      "PM10-FIL 47043\n",
      "PM-CON 47043\n",
      "1319773 43816\n",
      "NH3 43930\n",
      "50000 43816\n",
      "83329 47043\n",
      "120127 47043\n",
      "NOX 47043\n",
      "206440 47043\n",
      "CO 47043\n",
      "PM25-PRI 47043\n",
      "107028 43816\n",
      "203123 43816\n",
      "203338 19061\n",
      "7440439 12774\n",
      "7440020 12774\n",
      "207089 22288\n",
      "53703 22288\n",
      "7439965 12774\n",
      "198550 19061\n",
      "123386 43816\n",
      "192972 19061\n",
      "7439976 43932\n",
      "218019 31286\n",
      "71432 47043\n",
      "95476 43816\n",
      "205992 22288\n",
      "193395 22288\n",
      "41637905 19061\n"
     ]
    }
   ],
   "source": [
    "for pollutant in rwc['poll'].unique():\n",
    "    print(pollutant, len(rwc.loc[rwc['poll'] == pollutant].index) )"
   ]
  },
  {
   "cell_type": "code",
   "execution_count": 11,
   "id": "e5bda1b2-e6e1-4d30-9303-c6bd04c95c70",
   "metadata": {},
   "outputs": [],
   "source": [
    "# Export headers without quotes\n",
    "with open('rwc_2020.csv', 'w') as f:\n",
    "    f.write(','.join(rwc.columns) + '\\n')\n",
    "\n",
    "# Export DataFrame to CSV with quotes around string values only\n",
    "rwc.to_csv('rwc_2020.csv', index=False, na_rep='', quoting=csv.QUOTE_NONNUMERIC, header = True)"
   ]
  },
  {
   "cell_type": "markdown",
   "id": "2bd1a7a0-7745-4b77-a28d-744530a1a458",
   "metadata": {
    "jp-MarkdownHeadingCollapsed": true,
    "tags": []
   },
   "source": [
    "## Deal with tribal codes"
   ]
  },
  {
   "cell_type": "markdown",
   "id": "7d85e481-c12f-4c00-adee-a16b723ab71c",
   "metadata": {
    "jp-MarkdownHeadingCollapsed": true,
    "tags": []
   },
   "source": [
    "## Deal with projection factors"
   ]
  },
  {
   "cell_type": "markdown",
   "id": "47435bfb-a55f-4d07-899b-de436905d30a",
   "metadata": {},
   "source": [
    "## Deal with SCC codes allocation"
   ]
  },
  {
   "cell_type": "code",
   "execution_count": null,
   "id": "2ade6249-8edc-428d-9249-83546aa2e0cb",
   "metadata": {},
   "outputs": [],
   "source": [
    "# 2104008300 --> Woodstove: freestanding, general\n",
    "    # map to 2104008310 --> Woodstove: freestanding, non-EPA certified \n",
    "    # map to 2104008320 --> Woodstove: freestanding, EPA certified, non-catalytic\n",
    "    # map to 2104008330 --> Woodstove: freestanding, EPA certified, catalytic\n",
    "# 2104008530 --> Furnace: Indoor, pellet-fired, general \n",
    "    # map to 2104008510 --> Furnace: Indoor, cordwood-fired, non-EPA certified)\n",
    "# 2104008620 --> Hydronic heater: indoor \n",
    "    # map to 2104008610 --> Hydronic heater: outdoor\n",
    "# 2104008630 --> Hydronic heater: pellet-fired\n",
    "    # map to 2104008610 --> Hydronic heater: outdoor"
   ]
  },
  {
   "cell_type": "code",
   "execution_count": 23,
   "id": "b0c00898-6d61-468f-baef-3a1cd4936d90",
   "metadata": {},
   "outputs": [],
   "source": [
    "rwc.loc[rwc['scc'] == 2104008530,'scc'] = 2104008510\n",
    "rwc.loc[(rwc['scc'] == 2104008620) | (rwc['scc'] == 2104008630),'scc'] = 2104008610"
   ]
  },
  {
   "cell_type": "code",
   "execution_count": 25,
   "id": "cb5b7475-7a92-4e9e-83db-64b8d95efdbb",
   "metadata": {},
   "outputs": [],
   "source": []
  },
  {
   "cell_type": "code",
   "execution_count": null,
   "id": "48db4fdf-dac3-4218-a6a8-e5932535ba47",
   "metadata": {},
   "outputs": [],
   "source": []
  },
  {
   "cell_type": "markdown",
   "id": "74217440-efc0-432b-959e-94599efea13d",
   "metadata": {},
   "source": [
    "# save file"
   ]
  },
  {
   "cell_type": "code",
   "execution_count": 7,
   "id": "a54e3b4b-f999-4499-ac29-5e1c9add43e6",
   "metadata": {},
   "outputs": [],
   "source": [
    "rwc2020 = pd.read_pickle('rwc_2020.pkl')"
   ]
  },
  {
   "cell_type": "code",
   "execution_count": null,
   "id": "48390f3f-781e-44af-b5b7-1219fd638bc6",
   "metadata": {},
   "outputs": [],
   "source": [
    "rwc.to_csv('rwc_2020.csv')"
   ]
  }
 ],
 "metadata": {
  "kernelspec": {
   "display_name": "basic",
   "language": "python",
   "name": "basic"
  },
  "language_info": {
   "codemirror_mode": {
    "name": "ipython",
    "version": 3
   },
   "file_extension": ".py",
   "mimetype": "text/x-python",
   "name": "python",
   "nbconvert_exporter": "python",
   "pygments_lexer": "ipython3",
   "version": "3.9.18"
  }
 },
 "nbformat": 4,
 "nbformat_minor": 5
}
